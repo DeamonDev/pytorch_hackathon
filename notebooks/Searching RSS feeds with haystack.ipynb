{
 "cells": [
  {
   "cell_type": "code",
   "execution_count": 1,
   "metadata": {},
   "outputs": [],
   "source": [
    "#default_exp haystack_code_search"
   ]
  },
  {
   "cell_type": "code",
   "execution_count": 2,
   "metadata": {},
   "outputs": [],
   "source": [
    "#export\n",
    "import pprint\n",
    "import numpy as np\n",
    "import pandas as pd\n",
    "import requests\n",
    "import torch\n",
    "\n",
    "from haystack import Finder\n",
    "from haystack.database.elasticsearch import ElasticsearchDocumentStore\n",
    "from haystack.database.memory import InMemoryDocumentStore\n",
    "\n",
    "from haystack.retriever.dense import EmbeddingRetriever\n",
    "from haystack.utils import print_answers\n",
    "from pytorch_hackathon import zero_shot_learning"
   ]
  },
  {
   "cell_type": "code",
   "execution_count": 3,
   "metadata": {},
   "outputs": [
    {
     "name": "stdout",
     "output_type": "stream",
     "text": [
      "/home/kuba/Projects/pytorch_hackathon\n"
     ]
    }
   ],
   "source": [
    "%cd .."
   ]
  },
  {
   "cell_type": "code",
   "execution_count": 4,
   "metadata": {},
   "outputs": [
    {
     "name": "stdout",
     "output_type": "stream",
     "text": [
      "feeds.txt  topics.txt  zsl_feed_results.csv\r\n"
     ]
    }
   ],
   "source": [
    "!ls data"
   ]
  },
  {
   "cell_type": "code",
   "execution_count": 5,
   "metadata": {},
   "outputs": [],
   "source": [
    "rss_feed_urls = list(pd.read_table('data/feeds.txt', header=None).iloc[:,0].values)"
   ]
  },
  {
   "cell_type": "code",
   "execution_count": 6,
   "metadata": {},
   "outputs": [
    {
     "name": "stderr",
     "output_type": "stream",
     "text": [
      "100%|██████████| 16/16 [00:08<00:00,  1.88it/s]\n",
      "/home/kuba/Projects/pytorch_hackathon/pytorch_hackathon/zero_shot_learning.py:69: UserWarning: No parser was explicitly specified, so I'm using the best available HTML parser for this system (\"lxml\"). This usually isn't a problem, but if you run this code on another system, or in a different virtual environment, it may use a different parser and behave differently.\n",
      "\n",
      "The code that caused this warning is on line 69 of the file /home/kuba/Projects/pytorch_hackathon/pytorch_hackathon/zero_shot_learning.py. To get rid of this warning, pass the additional argument 'features=\"lxml\"' to the BeautifulSoup constructor.\n",
      "\n",
      "  feed_df['text'] = feed_df['summary'].apply(lambda s: bs4.BeautifulSoup(s).text)\n"
     ]
    }
   ],
   "source": [
    "feed_df = zero_shot_learning.get_feed_df(rss_feed_urls)"
   ]
  },
  {
   "cell_type": "code",
   "execution_count": 7,
   "metadata": {},
   "outputs": [],
   "source": [
    "#export\n",
    "\n",
    "use_gpu = torch.cuda.is_available()"
   ]
  },
  {
   "cell_type": "code",
   "execution_count": 8,
   "metadata": {},
   "outputs": [],
   "source": [
    "pretty_print = pprint.PrettyPrinter(indent=2).pprint"
   ]
  },
  {
   "cell_type": "code",
   "execution_count": 9,
   "metadata": {},
   "outputs": [
    {
     "data": {
      "text/html": [
       "<div>\n",
       "<style scoped>\n",
       "    .dataframe tbody tr th:only-of-type {\n",
       "        vertical-align: middle;\n",
       "    }\n",
       "\n",
       "    .dataframe tbody tr th {\n",
       "        vertical-align: top;\n",
       "    }\n",
       "\n",
       "    .dataframe thead th {\n",
       "        text-align: right;\n",
       "    }\n",
       "</style>\n",
       "<table border=\"1\" class=\"dataframe\">\n",
       "  <thead>\n",
       "    <tr style=\"text-align: right;\">\n",
       "      <th></th>\n",
       "      <th>title</th>\n",
       "      <th>title_detail</th>\n",
       "      <th>links</th>\n",
       "      <th>link</th>\n",
       "      <th>summary</th>\n",
       "      <th>summary_detail</th>\n",
       "      <th>id</th>\n",
       "      <th>guidislink</th>\n",
       "      <th>tags</th>\n",
       "      <th>text</th>\n",
       "      <th>...</th>\n",
       "      <th>published_parsed</th>\n",
       "      <th>comments</th>\n",
       "      <th>authors</th>\n",
       "      <th>author</th>\n",
       "      <th>author_detail</th>\n",
       "      <th>updated</th>\n",
       "      <th>updated_parsed</th>\n",
       "      <th>content</th>\n",
       "      <th>href</th>\n",
       "      <th>media_thumbnail</th>\n",
       "    </tr>\n",
       "  </thead>\n",
       "  <tbody>\n",
       "    <tr>\n",
       "      <th>0</th>\n",
       "      <td>I2L-MeshNet: Image-to-Lixel Prediction Network for Accurate 3D Human Pose an...</td>\n",
       "      <td>{'type': 'text/plain', 'language': None, 'base': 'https://us-east1-ml-feeds....</td>\n",
       "      <td>[{'rel': 'alternate', 'type': 'text/html', 'href': 'https://paperswithcode.c...</td>\n",
       "      <td>https://paperswithcode.com/paper/i2l-meshnet-image-to-lixel-prediction-network</td>\n",
       "      <td>Most of the previous image-based 3D human pose and mesh estimation methods e...</td>\n",
       "      <td>{'type': 'text/html', 'language': None, 'base': 'https://us-east1-ml-feeds.c...</td>\n",
       "      <td>https://paperswithcode.com/paper/i2l-meshnet-image-to-lixel-prediction-network</td>\n",
       "      <td>False</td>\n",
       "      <td>[{'term': '3d hand pose estimation', 'scheme': None, 'label': None}, {'term'...</td>\n",
       "      <td>Most of the previous image-based 3D human pose and mesh estimation methods e...</td>\n",
       "      <td>...</td>\n",
       "      <td>NaN</td>\n",
       "      <td>NaN</td>\n",
       "      <td>NaN</td>\n",
       "      <td>NaN</td>\n",
       "      <td>NaN</td>\n",
       "      <td>NaN</td>\n",
       "      <td>NaN</td>\n",
       "      <td>NaN</td>\n",
       "      <td>NaN</td>\n",
       "      <td>NaN</td>\n",
       "    </tr>\n",
       "    <tr>\n",
       "      <th>1</th>\n",
       "      <td>Polysemy Deciphering Network for Robust Human-Object Interaction Detection</td>\n",
       "      <td>{'type': 'text/plain', 'language': None, 'base': 'https://us-east1-ml-feeds....</td>\n",
       "      <td>[{'rel': 'alternate', 'type': 'text/html', 'href': 'https://paperswithcode.c...</td>\n",
       "      <td>https://paperswithcode.com/paper/polysemy-deciphering-network-for-robust-human</td>\n",
       "      <td>To address this issue, in this paper, we propose a novel Polysemy Decipherin...</td>\n",
       "      <td>{'type': 'text/html', 'language': None, 'base': 'https://us-east1-ml-feeds.c...</td>\n",
       "      <td>https://paperswithcode.com/paper/polysemy-deciphering-network-for-robust-human</td>\n",
       "      <td>False</td>\n",
       "      <td>[{'term': 'Human-object interaction detection', 'scheme': None, 'label': Non...</td>\n",
       "      <td>To address this issue, in this paper, we propose a novel Polysemy Decipherin...</td>\n",
       "      <td>...</td>\n",
       "      <td>NaN</td>\n",
       "      <td>NaN</td>\n",
       "      <td>NaN</td>\n",
       "      <td>NaN</td>\n",
       "      <td>NaN</td>\n",
       "      <td>NaN</td>\n",
       "      <td>NaN</td>\n",
       "      <td>NaN</td>\n",
       "      <td>NaN</td>\n",
       "      <td>NaN</td>\n",
       "    </tr>\n",
       "    <tr>\n",
       "      <th>2</th>\n",
       "      <td>Cascade Graph Neural Networks for RGB-D Salient Object Detection</td>\n",
       "      <td>{'type': 'text/plain', 'language': None, 'base': 'https://us-east1-ml-feeds....</td>\n",
       "      <td>[{'rel': 'alternate', 'type': 'text/html', 'href': 'https://paperswithcode.c...</td>\n",
       "      <td>https://paperswithcode.com/paper/cascade-graph-neural-networks-for-rgb-d</td>\n",
       "      <td>Current works either simply distill prior knowledge from the corresponding d...</td>\n",
       "      <td>{'type': 'text/html', 'language': None, 'base': 'https://us-east1-ml-feeds.c...</td>\n",
       "      <td>https://paperswithcode.com/paper/cascade-graph-neural-networks-for-rgb-d</td>\n",
       "      <td>False</td>\n",
       "      <td>[{'term': 'Salient object detection', 'scheme': None, 'label': None}]</td>\n",
       "      <td>Current works either simply distill prior knowledge from the corresponding d...</td>\n",
       "      <td>...</td>\n",
       "      <td>NaN</td>\n",
       "      <td>NaN</td>\n",
       "      <td>NaN</td>\n",
       "      <td>NaN</td>\n",
       "      <td>NaN</td>\n",
       "      <td>NaN</td>\n",
       "      <td>NaN</td>\n",
       "      <td>NaN</td>\n",
       "      <td>NaN</td>\n",
       "      <td>NaN</td>\n",
       "    </tr>\n",
       "    <tr>\n",
       "      <th>3</th>\n",
       "      <td>Convolutional Complex Knowledge Graph Embeddings</td>\n",
       "      <td>{'type': 'text/plain', 'language': None, 'base': 'https://us-east1-ml-feeds....</td>\n",
       "      <td>[{'rel': 'alternate', 'type': 'text/html', 'href': 'https://paperswithcode.c...</td>\n",
       "      <td>https://paperswithcode.com/paper/convolutional-complex-knowledge-graph</td>\n",
       "      <td>In this paper, we study the problem of learning continuous vector representa...</td>\n",
       "      <td>{'type': 'text/html', 'language': None, 'base': 'https://us-east1-ml-feeds.c...</td>\n",
       "      <td>https://paperswithcode.com/paper/convolutional-complex-knowledge-graph</td>\n",
       "      <td>False</td>\n",
       "      <td>[{'term': 'Knowledge graph embeddings', 'scheme': None, 'label': None}, {'te...</td>\n",
       "      <td>In this paper, we study the problem of learning continuous vector representa...</td>\n",
       "      <td>...</td>\n",
       "      <td>NaN</td>\n",
       "      <td>NaN</td>\n",
       "      <td>NaN</td>\n",
       "      <td>NaN</td>\n",
       "      <td>NaN</td>\n",
       "      <td>NaN</td>\n",
       "      <td>NaN</td>\n",
       "      <td>NaN</td>\n",
       "      <td>NaN</td>\n",
       "      <td>NaN</td>\n",
       "    </tr>\n",
       "    <tr>\n",
       "      <th>4</th>\n",
       "      <td>Quantum State Tomography with Conditional Generative Adversarial Networks</td>\n",
       "      <td>{'type': 'text/plain', 'language': None, 'base': 'https://us-east1-ml-feeds....</td>\n",
       "      <td>[{'rel': 'alternate', 'type': 'text/html', 'href': 'https://paperswithcode.c...</td>\n",
       "      <td>https://paperswithcode.com/paper/quantum-state-tomography-with-conditional</td>\n",
       "      <td>We augment a CGAN with custom neural-network layers that enable conversion o...</td>\n",
       "      <td>{'type': 'text/html', 'language': None, 'base': 'https://us-east1-ml-feeds.c...</td>\n",
       "      <td>https://paperswithcode.com/paper/quantum-state-tomography-with-conditional</td>\n",
       "      <td>False</td>\n",
       "      <td>[{'term': 'Quantum state tomography', 'scheme': None, 'label': None}]</td>\n",
       "      <td>We augment a CGAN with custom neural-network layers that enable conversion o...</td>\n",
       "      <td>...</td>\n",
       "      <td>NaN</td>\n",
       "      <td>NaN</td>\n",
       "      <td>NaN</td>\n",
       "      <td>NaN</td>\n",
       "      <td>NaN</td>\n",
       "      <td>NaN</td>\n",
       "      <td>NaN</td>\n",
       "      <td>NaN</td>\n",
       "      <td>NaN</td>\n",
       "      <td>NaN</td>\n",
       "    </tr>\n",
       "  </tbody>\n",
       "</table>\n",
       "<p>5 rows × 22 columns</p>\n",
       "</div>"
      ],
      "text/plain": [
       "                                                                             title  \\\n",
       "0  I2L-MeshNet: Image-to-Lixel Prediction Network for Accurate 3D Human Pose an...   \n",
       "1       Polysemy Deciphering Network for Robust Human-Object Interaction Detection   \n",
       "2                 Cascade Graph Neural Networks for RGB-D Salient Object Detection   \n",
       "3                                 Convolutional Complex Knowledge Graph Embeddings   \n",
       "4        Quantum State Tomography with Conditional Generative Adversarial Networks   \n",
       "\n",
       "                                                                      title_detail  \\\n",
       "0  {'type': 'text/plain', 'language': None, 'base': 'https://us-east1-ml-feeds....   \n",
       "1  {'type': 'text/plain', 'language': None, 'base': 'https://us-east1-ml-feeds....   \n",
       "2  {'type': 'text/plain', 'language': None, 'base': 'https://us-east1-ml-feeds....   \n",
       "3  {'type': 'text/plain', 'language': None, 'base': 'https://us-east1-ml-feeds....   \n",
       "4  {'type': 'text/plain', 'language': None, 'base': 'https://us-east1-ml-feeds....   \n",
       "\n",
       "                                                                             links  \\\n",
       "0  [{'rel': 'alternate', 'type': 'text/html', 'href': 'https://paperswithcode.c...   \n",
       "1  [{'rel': 'alternate', 'type': 'text/html', 'href': 'https://paperswithcode.c...   \n",
       "2  [{'rel': 'alternate', 'type': 'text/html', 'href': 'https://paperswithcode.c...   \n",
       "3  [{'rel': 'alternate', 'type': 'text/html', 'href': 'https://paperswithcode.c...   \n",
       "4  [{'rel': 'alternate', 'type': 'text/html', 'href': 'https://paperswithcode.c...   \n",
       "\n",
       "                                                                             link  \\\n",
       "0  https://paperswithcode.com/paper/i2l-meshnet-image-to-lixel-prediction-network   \n",
       "1  https://paperswithcode.com/paper/polysemy-deciphering-network-for-robust-human   \n",
       "2        https://paperswithcode.com/paper/cascade-graph-neural-networks-for-rgb-d   \n",
       "3          https://paperswithcode.com/paper/convolutional-complex-knowledge-graph   \n",
       "4      https://paperswithcode.com/paper/quantum-state-tomography-with-conditional   \n",
       "\n",
       "                                                                           summary  \\\n",
       "0  Most of the previous image-based 3D human pose and mesh estimation methods e...   \n",
       "1  To address this issue, in this paper, we propose a novel Polysemy Decipherin...   \n",
       "2  Current works either simply distill prior knowledge from the corresponding d...   \n",
       "3  In this paper, we study the problem of learning continuous vector representa...   \n",
       "4  We augment a CGAN with custom neural-network layers that enable conversion o...   \n",
       "\n",
       "                                                                    summary_detail  \\\n",
       "0  {'type': 'text/html', 'language': None, 'base': 'https://us-east1-ml-feeds.c...   \n",
       "1  {'type': 'text/html', 'language': None, 'base': 'https://us-east1-ml-feeds.c...   \n",
       "2  {'type': 'text/html', 'language': None, 'base': 'https://us-east1-ml-feeds.c...   \n",
       "3  {'type': 'text/html', 'language': None, 'base': 'https://us-east1-ml-feeds.c...   \n",
       "4  {'type': 'text/html', 'language': None, 'base': 'https://us-east1-ml-feeds.c...   \n",
       "\n",
       "                                                                               id  \\\n",
       "0  https://paperswithcode.com/paper/i2l-meshnet-image-to-lixel-prediction-network   \n",
       "1  https://paperswithcode.com/paper/polysemy-deciphering-network-for-robust-human   \n",
       "2        https://paperswithcode.com/paper/cascade-graph-neural-networks-for-rgb-d   \n",
       "3          https://paperswithcode.com/paper/convolutional-complex-knowledge-graph   \n",
       "4      https://paperswithcode.com/paper/quantum-state-tomography-with-conditional   \n",
       "\n",
       "  guidislink  \\\n",
       "0      False   \n",
       "1      False   \n",
       "2      False   \n",
       "3      False   \n",
       "4      False   \n",
       "\n",
       "                                                                              tags  \\\n",
       "0  [{'term': '3d hand pose estimation', 'scheme': None, 'label': None}, {'term'...   \n",
       "1  [{'term': 'Human-object interaction detection', 'scheme': None, 'label': Non...   \n",
       "2            [{'term': 'Salient object detection', 'scheme': None, 'label': None}]   \n",
       "3  [{'term': 'Knowledge graph embeddings', 'scheme': None, 'label': None}, {'te...   \n",
       "4            [{'term': 'Quantum state tomography', 'scheme': None, 'label': None}]   \n",
       "\n",
       "                                                                              text  \\\n",
       "0  Most of the previous image-based 3D human pose and mesh estimation methods e...   \n",
       "1  To address this issue, in this paper, we propose a novel Polysemy Decipherin...   \n",
       "2  Current works either simply distill prior knowledge from the corresponding d...   \n",
       "3  In this paper, we study the problem of learning continuous vector representa...   \n",
       "4  We augment a CGAN with custom neural-network layers that enable conversion o...   \n",
       "\n",
       "   ... published_parsed comments authors author author_detail updated  \\\n",
       "0  ...              NaN      NaN     NaN    NaN           NaN     NaN   \n",
       "1  ...              NaN      NaN     NaN    NaN           NaN     NaN   \n",
       "2  ...              NaN      NaN     NaN    NaN           NaN     NaN   \n",
       "3  ...              NaN      NaN     NaN    NaN           NaN     NaN   \n",
       "4  ...              NaN      NaN     NaN    NaN           NaN     NaN   \n",
       "\n",
       "  updated_parsed content href media_thumbnail  \n",
       "0            NaN     NaN  NaN             NaN  \n",
       "1            NaN     NaN  NaN             NaN  \n",
       "2            NaN     NaN  NaN             NaN  \n",
       "3            NaN     NaN  NaN             NaN  \n",
       "4            NaN     NaN  NaN             NaN  \n",
       "\n",
       "[5 rows x 22 columns]"
      ]
     },
     "execution_count": 9,
     "metadata": {},
     "output_type": "execute_result"
    }
   ],
   "source": [
    "feed_df.head()"
   ]
  },
  {
   "cell_type": "code",
   "execution_count": 10,
   "metadata": {},
   "outputs": [],
   "source": [
    "#export\n",
    "\n",
    "document_store = InMemoryDocumentStore(\n",
    "    embedding_field=\"article_emb\",\n",
    ")"
   ]
  },
  {
   "cell_type": "code",
   "execution_count": 11,
   "metadata": {},
   "outputs": [
    {
     "name": "stderr",
     "output_type": "stream",
     "text": [
      "08/12/2020 16:08:36 - INFO - haystack.retriever.dense -   Init retriever using embeddings of model sentence-transformers/bert-base-nli-mean-tokens\n",
      "08/12/2020 16:08:36 - INFO - farm.utils -   device: cuda n_gpu: 1, distributed training: False, automatic mixed precision training: None\n",
      "08/12/2020 16:08:36 - INFO - farm.infer -   Could not find `sentence-transformers/bert-base-nli-mean-tokens` locally. Try to download from model hub ...\n",
      "08/12/2020 16:08:38 - WARNING - farm.modeling.language_model -   Could not automatically detect from language model name what language it is. \n",
      "\t We guess it's an *ENGLISH* model ... \n",
      "\t If not: Init the language model by supplying the 'language' param.\n",
      "08/12/2020 16:08:44 - INFO - farm.utils -   device: cuda n_gpu: 1, distributed training: False, automatic mixed precision training: None\n"
     ]
    }
   ],
   "source": [
    "#export\n",
    "\n",
    "\n",
    "model_name = \"sentence-transformers/bert-base-nli-mean-tokens\"\n",
    "\n",
    "\n",
    "retriever = EmbeddingRetriever(\n",
    "    document_store=document_store,\n",
    "    embedding_model=model_name,\n",
    "    use_gpu=use_gpu)"
   ]
  },
  {
   "cell_type": "code",
   "execution_count": 12,
   "metadata": {},
   "outputs": [
    {
     "data": {
      "text/plain": [
       "Index(['title', 'title_detail', 'links', 'link', 'summary', 'summary_detail',\n",
       "       'id', 'guidislink', 'tags', 'text', 'feed', 'published',\n",
       "       'published_parsed', 'comments', 'authors', 'author', 'author_detail',\n",
       "       'updated', 'updated_parsed', 'content', 'href', 'media_thumbnail'],\n",
       "      dtype='object')"
      ]
     },
     "execution_count": 12,
     "metadata": {},
     "output_type": "execute_result"
    }
   ],
   "source": [
    "feed_df.columns"
   ]
  },
  {
   "cell_type": "code",
   "execution_count": 13,
   "metadata": {},
   "outputs": [],
   "source": [
    "#export\n",
    "\n",
    "article_texts = feed_df['text']"
   ]
  },
  {
   "cell_type": "code",
   "execution_count": null,
   "metadata": {},
   "outputs": [],
   "source": []
  },
  {
   "cell_type": "code",
   "execution_count": 14,
   "metadata": {},
   "outputs": [
    {
     "name": "stderr",
     "output_type": "stream",
     "text": [
      "Inferencing Samples: 100%|██████████| 74/74 [00:10<00:00,  7.34 Batches/s]\n"
     ]
    }
   ],
   "source": [
    "#export\n",
    "\n",
    "article_embeddings = retriever.embed_queries(texts=list(article_texts))"
   ]
  },
  {
   "cell_type": "code",
   "execution_count": 15,
   "metadata": {},
   "outputs": [],
   "source": [
    "#export\n",
    "\n",
    "feed_df['article_emb'] = article_embeddings "
   ]
  },
  {
   "cell_type": "code",
   "execution_count": 18,
   "metadata": {},
   "outputs": [],
   "source": [
    "#export\n",
    "\n",
    "document_store.write_documents(feed_df.to_dict(orient='records'))"
   ]
  },
  {
   "cell_type": "code",
   "execution_count": 23,
   "metadata": {},
   "outputs": [
    {
     "data": {
      "text/plain": [
       "'To address this issue, in this paper, we propose a novel Polysemy Deciphering Network (PD-Net) that decodes the visual polysemy of verbs for HOI detection in three distinct ways. Code: https://github.com/MuchHair/PD-Net'"
      ]
     },
     "execution_count": 23,
     "metadata": {},
     "output_type": "execute_result"
    }
   ],
   "source": [
    "feed_df.iloc[1]['text']"
   ]
  },
  {
   "cell_type": "code",
   "execution_count": 24,
   "metadata": {},
   "outputs": [
    {
     "name": "stderr",
     "output_type": "stream",
     "text": [
      "Inferencing Samples: 100%|██████████| 1/1 [00:00<00:00, 15.21 Batches/s]\n"
     ]
    },
    {
     "data": {
      "text/plain": [
       "Document(id='898ca6bee19ea3e27a3f72e5e59f59b7', text='In this paper, we study the problem of learning continuous vector representations of knowledge graphs for predicting missing links. Code: https://github.com/conex-kge/ConEx', external_source_id=None, question=None, query_score=0.798127055398364, meta={'title': 'Convolutional Complex Knowledge Graph Embeddings', 'title_detail': {'type': 'text/plain', 'language': None, 'base': 'https://us-east1-ml-feeds.cloudfunctions.net/pwc/latest', 'value': 'Convolutional Complex Knowledge Graph Embeddings'}, 'links': [{'rel': 'alternate', 'type': 'text/html', 'href': 'https://paperswithcode.com/paper/convolutional-complex-knowledge-graph'}], 'link': 'https://paperswithcode.com/paper/convolutional-complex-knowledge-graph', 'summary': 'In this paper, we study the problem of learning continuous vector representations of knowledge graphs for predicting missing links. <p>Code: <a href=\"https://github.com/conex-kge/ConEx\">https://github.com/conex-kge/ConEx</a></p>', 'summary_detail': {'type': 'text/html', 'language': None, 'base': 'https://us-east1-ml-feeds.cloudfunctions.net/pwc/latest', 'value': 'In this paper, we study the problem of learning continuous vector representations of knowledge graphs for predicting missing links. <p>Code: <a href=\"https://github.com/conex-kge/ConEx\">https://github.com/conex-kge/ConEx</a></p>'}, 'id': 'https://paperswithcode.com/paper/convolutional-complex-knowledge-graph', 'guidislink': False, 'feed': 'https://us-east1-ml-feeds.cloudfunctions.net/pwc/latest', 'published': nan, 'published_parsed': nan, 'comments': nan, 'authors': nan, 'author': nan, 'author_detail': nan, 'updated': nan, 'updated_parsed': nan, 'content': nan, 'href': nan, 'media_thumbnail': nan, 'article_emb': [-0.4192096165248326, 0.37803014119466144, 0.3975187029157366, 0.5580530620756603, 0.27656807218279156, -0.16178047089349656, 0.913005374726795, -0.4004155567714146, 0.41931915283203125, -0.2598964827401297, -0.05920106456393287, 0.39097763243175687, -0.2732899302528018, -0.1632285685766311, -0.7786279405866351, 0.214546453385126, -0.26854051862444195, -0.2688602265857515, 0.4192806425548735, -0.17725240616571336, 0.2533956936427525, -0.2637575694492885, -0.9283608936128163, 0.6959699449085054, 0.8683074769519624, 0.679000354948498, 0.1042528265998477, 0.3354326202755883, -1.046786172049386, 0.14987125850859143, -0.41204665956043063, -0.07045110634395055, 0.44827016194661456, -0.2334668068658738, -0.3120191437857492, 0.5644748778570265, 0.6369821911766416, 0.21134151731218612, 0.3779139064607166, 0.6236404237293062, -0.28077077865600586, 0.004208683967590332, 0.3227552459353492, 0.5038073403494698, -0.9638720921107701, -0.5229913620721727, -0.7937061673118955, 0.5457896278018043, 0.5668540682111468, -0.17470518747965494, -1.2411885942731584, 1.3081992921375094, 1.0916011446998233, 0.5210133507138207, -0.6494777316138858, 0.1470624946412586, 1.0440331413632347, -1.2941498529343378, -0.15368362835475377, -0.806502205984933, -1.0048269544328963, 0.16428777149745397, 0.672033219110398, 0.20307543164207822, -0.7246759505498976, 0.1449999241601853, 0.4640016101655506, -0.5675877162388393, -0.8865686144147601, -0.4101644697643462, 0.12278833843412854, -0.7017327717372349, -1.2264723096575056, 0.3491304034278506, -0.23963587624686106, -0.003187888434955052, -0.007019715649741036, 0.7429511206490653, 1.0456299554734003, -0.1421238354274205, -0.6278795514787946, 0.4969229471115839, 0.2844544592357817, -0.7672577812558129, 1.2698970068068731, -0.7667322612944103, 0.41603392646426246, 0.6101103737240746, -0.8536898295084635, 0.7181009565080915, 0.3153228532700312, 0.3360049156915574, 0.014498304753076462, 0.08939203761872791, -0.16889234951564244, -0.4524077460879371, 0.14188571203322636, -0.09545129821414039, 0.2015832265218099, 0.39390309651692706, -0.3328386942545573, -0.7677728562127977, -0.0700223445892334, 0.5531020391555059, -0.709929693312872, -0.5137411753336588, 0.002461869979188556, -0.45372436160133, -1.2849807739257812, 0.7930147988455636, 0.24186370486304873, 0.19784579958234513, 0.20280020577566965, 0.15167035375322616, -0.08385199024563744, -0.18982898621332078, -0.6169275102161226, 1.0334430876232328, 0.16759848594665527, 1.1556514558337985, 0.26600792294456843, 0.23593148731050037, -0.27664329892113093, 0.27026616959344774, 0.8746707552955264, 0.7662001110258556, 0.31025813874744235, 0.7206310544695173, -0.6928126017252604, -0.23316408339000882, 1.1055308750697546, 0.6084236871628534, 0.5076301665533156, -1.2888768513997395, -0.4567412875947498, 0.21133431934175037, -0.21145520891462052, -0.45863496689569383, -0.39585531325567336, -0.13467042786734446, -0.061329705374581475, 0.15438884780520484, 0.45474002474830266, -0.41651439666748047, 0.011540950054214114, -0.20479797181629, -0.5863968985421317, -0.19951379866827101, -0.1327496029081799, 0.08099959577832903, -0.23138352802821568, 0.714198112487793, -1.7560755411783855, -0.4267068590436663, -0.7996333894275484, 0.03368808258147467, -1.1672178904215496, -0.21738213584536598, -0.13257157234918504, 0.7619591667538598, 0.5107782908848354, 0.8744958241780599, -0.4397369112287249, 0.2104172706604004, 0.3161261422293527, -0.5594518752325148, 0.5245016188848586, -1.2111859094528925, 0.5213673001243955, 0.14678395362127394, -0.0663445166179112, -0.2868328321547735, 0.9082911355154855, -0.5346753256661552, 0.9140609559558687, 0.32118997119721915, 0.03389872255779448, -0.20267890748523532, -0.0013306869992188045, -0.8669561658586774, 0.0734233402070545, 0.022608256056195215, -0.6056202933901832, -0.30955718812488375, -0.9693478175571987, 0.1167001383645194, 0.8034944080171131, -0.5025547118414015, 0.6238594963437035, 0.15094585645766484, -0.6603280930292039, -0.3422704424176897, 0.7259204501197452, -1.1942281268891835, 0.5282244909377325, 0.7954017094203404, -1.0273218609037853, 0.4784867422921317, -0.23910763150169737, -0.08206092175983247, 0.043719498884110225, 0.1343874136606852, 0.5081969669886998, -0.760646002633231, -0.19544774010067895, 0.6415472030639648, -1.0664530254545665, 0.19160316103980654, -1.4316651480538505, -0.11271404084705171, -0.7847449893043155, 0.4685924620855422, 0.36671186628795804, 0.8260428110758463, 0.8148387727283296, -0.5763630639939081, 0.47761104220435735, -0.3977507636660621, 0.9503174736386254, 0.6001315798078265, 0.3930808021908715, -0.16836865743001303, -0.12637653804960705, 0.4533914384387788, -0.36994352794828866, 1.1520865304129464, 0.8533355167933873, 0.7660278138660249, 1.42229125613258, 1.1300338563464938, 0.13632589294796899, 0.09455355008443196, -0.42372567313058035, 0.44888001396542504, 0.23256783258347286, -0.08642041683197021, -0.4599700655255999, -0.20704421542939686, 0.3333738644917806, 0.13320842243376232, 0.14207791146777926, 1.2341569264729817, -0.03500662815003168, -0.07240893159593854, -0.3979021254039946, -0.9113960266113281, 0.19934647423880442, 0.3555025600251697, -0.33613840738932294, -0.2906412397112165, -0.31149373735700336, 0.42146927969796316, 0.6877619879586356, -1.0455841791062128, -0.5167655490693592, 0.354654175894601, -0.40575363522484187, -0.32453673226492746, 0.12784788722083681, 0.483350708371117, -0.22953580674670993, -0.6493145624796549, -0.4194228308541434, -0.22954597927275158, 0.6988170714605422, -0.14347550982520693, -0.3094946089245024, 0.45321909586588544, -0.13631316593715123, -0.2753004346575056, -0.07907997426532563, -1.2604143960135323, -0.4051143555414109, 0.22893794377644858, 0.01572053205399286, -0.6422584624517531, 0.2575766018458775, 0.1679717359088716, -0.5268433434622628, -0.17356966790698825, -0.9588372366768974, 0.03982572328476679, -1.0146439870198567, 0.029254101571582612, -0.44061783381870817, -0.011880820705777123, 0.13442405064900717, -0.3638536589486258, -0.7103657949538458, 0.1340510163988386, -0.006416799766676766, 0.752008665175665, -0.7563877559843517, 0.08364937418983096, 0.1829798562186105, 0.38135564894903273, 0.600626718430292, -0.7357358478364491, 0.5368605114164806, -0.5781935283115932, 0.2269306182861328, -0.01352383125396002, -0.9342572348458427, -0.08151081062498547, -0.494887806120373, 0.06910573868524461, -0.13798990703764416, 0.5335848217918759, -1.1247296106247675, -0.7257311230614072, 0.25466800871349515, 0.2106003761291504, 0.0044984689780644006, 0.15907245590573266, 0.15836082186017716, 0.14976408368065244, 0.19495108014061338, 0.015299917686553229, -0.24615966706048875, -0.8190889812651134, -0.7599446887061709, 0.724402836390904, 0.4957424799601237, 0.17524514879499162, 0.48074131920224145, -0.42328902653285433, 0.6456876028151739, 0.5960284641810826, -0.6112856183733258, 0.07291265896388463, 0.24507082076299758, -0.043427228927612305, -0.3738799776349749, 0.4865048272269113, -0.24001786822364443, 1.2463043757847376, -0.8202395666213262, -0.18099496478126162, 0.5831983202979678, -1.1308166867210752, 0.09668194679986863, 0.03215571244557699, -0.34163704372587655, 0.45298008691696895, -0.3323531150817871, 0.29758455639793757, 0.1515770980290004, 0.3840697152273996, -0.5957400458199638, 0.794381096249535, 0.33991298221406485, -0.5143099285307384, 0.3401151384626116, 0.7910630362374442, -0.6317088717506045, -0.8025604429699126, 0.13737323170616514, 0.6679687954130626, -0.8151592072986421, 0.20801253545851933, 0.12713314238048734, 0.756117684500558, -0.20643390927995955, -0.9047105880010695, -0.24135789417085193, -0.11570910045078822, -0.3411108652750651, -0.20620250701904297, 0.22795806612287248, 0.20788165501185826, 0.44844591049920945, -0.7430488949730283, -0.3480257533845447, 0.2222602026803153, -0.7252938860938662, -0.5283073697771344, -0.803558349609375, -0.4699577149890718, -0.15236563909621464, -0.4967892510550363, -0.3490747270129976, -0.45020298730759395, 0.3155027798243931, -1.0106666201636905, -0.12460360072907947, -0.12359952926635742, 0.5424278804234096, 0.7140135992140997, -0.11170355478922527, -0.4665393829345703, 0.45949595315115793, 0.2618204752604167, -0.2093827383858817, -0.2859570866539365, -0.3588347662062872, -0.7879315330868676, -0.4907106672014509, 0.17130503200349353, -0.7261214937482562, -0.3527818407331194, -0.2539880843389602, 0.22013503029232934, 0.7441279547555106, -0.17431993711562382, 0.6862631752377465, -0.12398866244724818, 0.5115304674421038, -0.10135063670930408, 1.1216553279331751, -1.2511345091320218, 0.13526005971999394, -0.40377012888590497, 0.3824677240280878, 0.5092734836396717, -0.6016506921677363, 0.6395384470621744, 0.3392448425292969, -1.2912130809965587, -0.953333264305478, 0.5324405488513765, -0.21751780737014043, -0.2619160470508394, 0.166475738797869, 0.4333089192708333, -0.15052454812186106, -0.028799042815253847, 0.018864397491727556, -0.5897856212797619, -0.36472742898123606, 0.31303891681489493, 0.8297865731375558, -0.21735556920369467, -0.5037762324015299, -0.2556054705665225, 0.16079654012407577, -0.10533389591035389, 0.6956128165835426, 0.40486549195789157, 0.5115038553873698, -0.538938703991118, -0.3526768003191267, -1.156746818905785, 0.5057173683529809, -0.5619085856846401, 0.06493843169439406, 1.0233819144112724, -0.13518210819789342, -0.17910022962661015, 0.9653105054582868, 0.27640817278907415, 0.1915516626267206, -0.32850258690970285, 0.32788708096458796, 0.5075989677792504, 0.6041318348475865, -0.2026261602129255, -0.6267820994059244, -1.4514452616373699, -0.6031037739345005, -0.6646872929164341, 0.07335725284758068, 0.25754358654930476, 0.15961726506551108, -0.1445681821732294, 0.6917898541405088, 0.837869371686663, -0.29161607651483445, -0.07551903951735724, 0.5745151610601515, 0.06366851216270811, 0.26497593380156015, -0.14922030766805014, -0.42098131633940195, 0.4422773633684431, 0.19807806469145275, -0.8219668978736514, -0.16075842721121653, 0.2206030119033087, -0.037759071304684595, -0.3313713527861096, 0.6618730908348447, 0.7373607272193545, 0.28241999944051105, 0.4789974121820359, 0.029319686549050466, -1.0817933763776506, 0.10031079110645112, 0.7601493199666342, 0.2460849852789016, -0.4722011202857608, 0.0964091732388451, 0.12681604567028226, -0.4598287854875837, -0.2594537962050665, 0.2754789534069243, 0.01723590067454747, -0.1212255387079148, -0.25334417252313524, 0.17312232653299967, 0.026075550488063266, 1.5798163641066778, 0.9491850535074869, -0.2795063200451079, 0.1714056900569371, 1.6358055841355097, -0.17973002933320545, -0.48681667872837614, -0.7688753037225633, -0.27158814384823754, 0.42453438895089285, -0.2935366630554199, 0.256317206791469, 0.14522504806518555, -0.027512757551102413, -0.36114647274925593, 0.5168074653262184, -0.48699878510974703, -0.39146028246198383, -0.22947869982038224, -0.6924987520490374, -0.23453598930722191, -0.4721240089053199, 0.9126888456798735, -1.0490691775367373, 0.3750873293195452, 0.18502172969636463, 0.06182529812767392, 0.3701138042268299, 0.18722970145089285, 0.3297567594619024, 0.23716642743065244, 0.19486304691859654, -0.010218904131934756, 0.7570011048089891, -0.46152046748570036, -0.3002438772292364, -0.5415205728440058, 0.41102032434372676, 0.766999017624628, -0.7937434968494234, 0.1965979394458589, 0.136972291128976, 0.29389703841436476, -0.8885481698172433, -0.9818194253104073, 0.3180901663643973, 0.29976097742716473, -0.7911632174537295, -0.8969711122058687, -0.15096461205255418, -0.29850927988688153, -0.21856237593151273, 0.8400569189162481, 0.3081363950456892, -0.5305962789626348, -0.5654698326474145, -0.610901877993629, 0.25985740479968844, -0.12485178311665852, 0.27296697525751024, 0.676826658703032, 0.7522385915120443, 0.24603584834507533, 0.5535526275634766, -0.42538465772356304, -0.8016949608212426, -0.49170916421072824, 0.19768941970098586, -0.2916038149879092, -0.30489310764131095, 0.563299678620838, -0.4781461443219866, 0.26154175258818124, 0.6562945956275577, -0.4899684361049107, -0.9504222869873047, 0.4862940652029855, -0.6360387347993397, -0.050722116515749975, -0.2433554558526902, 0.548094113667806, 0.660627910069057, -0.04581237690789359, -0.49481923239571707, -0.007632289613996234, 0.5598888851347423, 0.16664898963201613, -0.36850967861357187, -0.38146495819091797, -0.5494480587187267, -0.24686890556698754, -0.11973269780476888, 0.1310986564272926, 0.2616400264558338, 0.7097268785749163, 0.34250070935203913, 0.502063478742327, 0.4902750651041667, -0.2652592658996582, 0.2081513631911505, -0.13215735980442592, -0.792242685953776, -1.1406172797793435, -0.068938033921378, -0.7316552570887974, -0.17149202028910318, 0.13794835408528647, 0.2670331455412365, -0.7939474923270089, 0.17683082535153344, 0.38351599375406903, -0.4893724804832822, -0.06540028821854364, 0.3836119515555246, -0.015043051469893683, -0.13906308582850865, -0.6101583753313337, -0.051726732935224264, 0.30557780038742793, 0.11513626007806688, -0.07711513837178548, 0.19163179397583008, -0.3633723258972168, 0.034190609341575987, -0.2630671319507417, -0.6734862554640997, 0.8050053914388021, 0.6385279155912853, -0.9129900251116071, 0.8072403499058315, 0.87065551394508, 0.4111282711937314, -0.23663243793305896, 0.36742764427548363, 0.020635514032273067, 0.7471678597586495, -0.5584747223627, 0.2730096181233724, -0.2633458546229771, -0.4196735109601702, -0.4173722948346819, 1.1438114529564267, -0.44603856404622394, 0.4077731541224888, 0.828113283429827, -0.27026612418038504, 0.021396905183792114, -0.02564823627471924, 0.4603117988223121, 0.05854153065454392, -0.331674439566476, 0.828209468296596, -0.5802053269885835, 0.028292843273707798, 0.39124338967459543, 0.20300397418794178, -0.36314598719278973, 0.38973699297223774, -0.12271226020086379, 0.8773981730143229, 0.26071659723917645, 0.1689524423508417, 0.09462884494236537, 0.1429510343642462, 1.6147582644507998, 0.03864527883983794, -0.27871901648385183, 0.18456465857369558, 0.19476252510434106, -0.7945283253987631, -0.15916635876610166, -0.3201564834231422, -0.48466609773181735, -0.10252609707060314, 1.4434132348923456, -0.31111867087227957, 1.3549580346970331, 0.4124100548880441, -0.3158509844825381, -0.809395018078032, -0.33331328346615746, -0.09059237298511323, -0.6250541777837844, -0.8884455362955729, 0.7171463285173688, 0.5317739305042085, -0.589487666175479, -0.010854601150467283, 0.7879492441813151, 0.6571550369262695, 0.22245363962082637, -0.38644100370861234, -0.6836072830926805, -1.3373215993245442, 0.28960084915161133, -0.6241797038487026, -0.3658722922915504, 0.44064185732886907, -1.3060825892857142, -0.8699797675723121, -0.3778843198503767, 0.8851095835367838, 0.5961661111740839, 0.6761893317812965, -0.4156127203078497, 0.31882983162289574, 0.7370278494698661, -0.05838007018679664, -0.4200276874360584, -1.0476781754266649, 0.1414139951978411, 0.9772155398414248, 0.02054464817047119, 0.07220059349423363, -0.24948027020408994, 0.2322851816813151, 0.27548045203799293, -0.5626831962948754, 0.09702540579296294, 0.33624755768548875, 0.17738133385067895, -0.48643157595679876, -0.021144236837114607, -0.22546890803745814, -0.44859332130068824, -0.1181782881418864, 0.11305924824305943, 0.01416359061286563, -0.494480950491769, -0.6886463165283203, 0.5102258863903227, -0.051800932203020365, 0.22026027951921737, 0.7796813419886998, -0.41464905511765254, -0.048073132832845054, -0.24127578735351562, -0.367235161009289, -0.08934468882424491, -1.0191158113025485, 0.01603801477523077, 0.5219737915765672, -0.20280136380876815, -0.37355663662865046, 0.2962338129679362, 0.4179248355683826, 0.23663130260649182, 0.02872243665513538, -0.400116829645066, -0.28457437242780415, -0.3286749521891276, -0.15908577328636533, 0.2709659394763765, 0.8282326289585659, 0.023330948182514737, -0.3030468849908738, -0.5248105185372489, -0.44777084532238187, 0.11432232175554548, 0.17958728472391763, -1.6389448983328683, -0.9161856515066964, 0.0026974333893685113, 0.14571075212387813, -0.2543566340491885, -0.3653675942193894, -0.9192346845354352, 0.5432870955694289]}, tags=None)"
      ]
     },
     "execution_count": 24,
     "metadata": {},
     "output_type": "execute_result"
    }
   ],
   "source": [
    "retriever.retrieve(\n",
    "    feed_df.iloc[1]['text']\n",
    ")[1]"
   ]
  },
  {
   "cell_type": "code",
   "execution_count": 26,
   "metadata": {},
   "outputs": [
    {
     "name": "stderr",
     "output_type": "stream",
     "text": [
      "Inferencing Samples: 100%|██████████| 25/25 [00:03<00:00,  7.27 Batches/s]\n"
     ]
    }
   ],
   "source": [
    "text_vecs = np.array(retriever.embed_queries(list(feed_df['text'].iloc[:100])))"
   ]
  },
  {
   "cell_type": "code",
   "execution_count": 29,
   "metadata": {},
   "outputs": [],
   "source": [
    "example_vec = np.array(feed_df.iloc[0]['article_emb'])"
   ]
  },
  {
   "cell_type": "code",
   "execution_count": 30,
   "metadata": {},
   "outputs": [
    {
     "data": {
      "text/plain": [
       "[<matplotlib.lines.Line2D at 0x7f30060be490>]"
      ]
     },
     "execution_count": 30,
     "metadata": {},
     "output_type": "execute_result"
    },
    {
     "data": {
      "image/png": "[encoded data removed]",
      "text/plain": [
       "<Figure size 432x288 with 1 Axes>"
      ]
     },
     "metadata": {
      "needs_background": "light"
     },
     "output_type": "display_data"
    }
   ],
   "source": [
    "from sklearn import metrics\n",
    "import matplotlib.pyplot as plt\n",
    "\n",
    "plt.plot(metrics.pairwise.cosine_similarity([example_vec], text_vecs)[0])"
   ]
  },
  {
   "cell_type": "code",
   "execution_count": null,
   "metadata": {},
   "outputs": [],
   "source": []
  }
 ],
 "metadata": {
  "kernelspec": {
   "display_name": "ml",
   "language": "python",
   "name": "ml"
  },
  "language_info": {
   "codemirror_mode": {
    "name": "ipython",
    "version": 3
   },
   "file_extension": ".py",
   "mimetype": "text/x-python",
   "name": "python",
   "nbconvert_exporter": "python",
   "pygments_lexer": "ipython3",
   "version": "3.7.7"
  }
 },
 "nbformat": 4,
 "nbformat_minor": 4
}
