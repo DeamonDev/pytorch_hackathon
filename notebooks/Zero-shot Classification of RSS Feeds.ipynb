{
 "cells": [
  {
   "cell_type": "code",
   "execution_count": 1,
   "metadata": {},
   "outputs": [],
   "source": [
    "#default_exp zero_shot_learning"
   ]
  },
  {
   "cell_type": "code",
   "execution_count": 2,
   "metadata": {},
   "outputs": [],
   "source": [
    "#export\n",
    "from operator import itemgetter\n",
    "\n",
    "import numpy as np\n",
    "import tqdm\n",
    "import bs4\n",
    "import feedparser\n",
    "import seaborn as sns\n",
    "import pandas as pd\n",
    "\n",
    "\n",
    "from ktrain import text \n",
    "import torch\n"
   ]
  },
  {
   "cell_type": "code",
   "execution_count": 3,
   "metadata": {},
   "outputs": [
    {
     "name": "stdout",
     "output_type": "stream",
     "text": [
      "/home/kuba/Projects/pytorch_hackathon\n"
     ]
    }
   ],
   "source": [
    "%cd .."
   ]
  },
  {
   "cell_type": "code",
   "execution_count": 4,
   "metadata": {},
   "outputs": [],
   "source": [
    "pd.set_option(\"display.max_colwidth\", 250)"
   ]
  },
  {
   "cell_type": "markdown",
   "metadata": {},
   "source": [
    "# RSS Feeds\n"
   ]
  },
  {
   "cell_type": "code",
   "execution_count": 5,
   "metadata": {},
   "outputs": [],
   "source": [
    "#export\n",
    "medium_publications = [\n",
    "    'the-artificial-impostor',\n",
    "    'pytorch',\n",
    "    'dair.ai',\n",
    "    'towards-artificial-intelligence',\n",
    "    'swlh',\n",
    "    '@ODSC',\n",
    "    'doctrine',\n",
    "    'paperswithcode'\n",
    "]\n",
    "\n",
    "\n",
    "medium_url_template = 'https://medium.com/feed/{}'\n",
    "medium_url = medium_url_template.format(medium_publications[0])\n",
    "medium_urls = [medium_url_template.format(publication) for publication in medium_publications]"
   ]
  },
  {
   "cell_type": "code",
   "execution_count": 6,
   "metadata": {},
   "outputs": [],
   "source": [
    "#export\n",
    "subreddits = [\n",
    "    'MachineLearning',\n",
    "    'deeplearning',\n",
    "    'datascience',\n",
    "    'cognitivelinguistics',\n",
    "    'TopOfArxivSanity',\n",
    "    'kaggle'\n",
    "]\n",
    "\n",
    "reddit_url_template = 'https://www.reddit.com/r/{}/.rss'\n",
    "reddit_url = reddit_url_template.format(subreddits[0])\n",
    "reddit_urls = [reddit_url_template.format(subreddit) for subreddit in subreddits]"
   ]
  },
  {
   "cell_type": "code",
   "execution_count": 7,
   "metadata": {},
   "outputs": [],
   "source": [
    "#export\n",
    "\n",
    "\n",
    "def get_article_text(article):\n",
    "    article_html_content = article['content'][0]['value']\n",
    "    article_text = bs4.BeautifulSoup(article_html_content).text\n",
    "    return article_text\n",
    "\n",
    "\n",
    "def get_feed_article_texts(feed):\n",
    "    return [get_article_text(article) for article in feed['entries'] if 'content' in article.keys()]\n",
    "\n",
    "\n",
    "def get_feed_article_df(feed):\n",
    "    feed_df = pd.DataFrame.from_records(feed['entries'])\n",
    "    feed_df['text'] = feed_df['summary'].apply(lambda s: bs4.BeautifulSoup(s).text)\n",
    "    return feed_df\n",
    "\n",
    "\n",
    "def add_field(df, field_name, values):\n",
    "    df[field_name] = values\n",
    "    return df"
   ]
  },
  {
   "cell_type": "code",
   "execution_count": 8,
   "metadata": {},
   "outputs": [],
   "source": [
    "#export\n",
    "paperswithcode_url = 'https://us-east1-ml-feeds.cloudfunctions.net/pwc/latest' \n",
    "hackernews_url = 'https://news.ycombinator.com/rss' \n",
    "rss_feed_urls = [paperswithcode_url, hackernews_url] + medium_urls + reddit_urls"
   ]
  },
  {
   "cell_type": "code",
   "execution_count": 9,
   "metadata": {},
   "outputs": [],
   "source": [
    "feed_urls = pd.read_table('data/feeds.txt', header=None).iloc[:,0].values"
   ]
  },
  {
   "cell_type": "code",
   "execution_count": 10,
   "metadata": {},
   "outputs": [
    {
     "name": "stdout",
     "output_type": "stream",
     "text": [
      "https://us-east1-ml-feeds.cloudfunctions.net/pwc/latest\n",
      "https://news.ycombinator.com/rss\n",
      "https://medium.com/feed/the-artificial-impostor\n",
      "https://medium.com/feed/pytorch\n",
      "https://medium.com/feed/dair.ai\n",
      "https://medium.com/feed/towards-artificial-intelligence\n",
      "https://medium.com/feed/swlh\n",
      "https://medium.com/feed/@ODSC\n",
      "https://medium.com/feed/doctrine\n",
      "https://medium.com/feed/paperswithcode\n",
      "https://www.reddit.com/r/MachineLearning/.rss\n",
      "https://www.reddit.com/r/deeplearning/.rss\n",
      "https://www.reddit.com/r/datascience/.rss\n",
      "https://www.reddit.com/r/cognitivelinguistics/.rss\n",
      "https://www.reddit.com/r/TopOfArxivSanity/.rss\n",
      "https://www.reddit.com/r/kaggle/.rss\n"
     ]
    }
   ],
   "source": [
    "for url in rss_feed_urls:\n",
    "    print(url)"
   ]
  },
  {
   "cell_type": "markdown",
   "metadata": {},
   "source": [
    "### Loading RSS feed articles to a dataframe"
   ]
  },
  {
   "cell_type": "code",
   "execution_count": 11,
   "metadata": {},
   "outputs": [],
   "source": [
    "#export\n",
    "def get_feed_df(feed_urls):\n",
    "    feeds = [\n",
    "        (feed_url, feedparser.parse(feed_url))\n",
    "        for feed_url in tqdm.tqdm(feed_urls)\n",
    "    ]\n",
    "    return pd.concat(\n",
    "        [\n",
    "            add_field(get_feed_article_df(feed), 'feed', feed_url)\n",
    "            for (feed_url, feed) in feeds\n",
    "            if len(feed['entries']) > 0\n",
    "        ]\n",
    "    )"
   ]
  },
  {
   "cell_type": "code",
   "execution_count": 12,
   "metadata": {},
   "outputs": [
    {
     "name": "stderr",
     "output_type": "stream",
     "text": [
      "100%|██████████| 16/16 [00:10<00:00,  1.59it/s]\n"
     ]
    }
   ],
   "source": [
    "feed_df = get_feed_df(rss_feed_urls)"
   ]
  },
  {
   "cell_type": "code",
   "execution_count": 13,
   "metadata": {},
   "outputs": [
    {
     "data": {
      "text/plain": [
       "(295, 22)"
      ]
     },
     "execution_count": 13,
     "metadata": {},
     "output_type": "execute_result"
    }
   ],
   "source": [
    "feed_df.shape"
   ]
  },
  {
   "cell_type": "code",
   "execution_count": 14,
   "metadata": {},
   "outputs": [
    {
     "data": {
      "text/html": [
       "<div>\n",
       "<style scoped>\n",
       "    .dataframe tbody tr th:only-of-type {\n",
       "        vertical-align: middle;\n",
       "    }\n",
       "\n",
       "    .dataframe tbody tr th {\n",
       "        vertical-align: top;\n",
       "    }\n",
       "\n",
       "    .dataframe thead th {\n",
       "        text-align: right;\n",
       "    }\n",
       "</style>\n",
       "<table border=\"1\" class=\"dataframe\">\n",
       "  <thead>\n",
       "    <tr style=\"text-align: right;\">\n",
       "      <th></th>\n",
       "      <th>title</th>\n",
       "      <th>title_detail</th>\n",
       "      <th>links</th>\n",
       "      <th>link</th>\n",
       "      <th>summary</th>\n",
       "      <th>summary_detail</th>\n",
       "      <th>id</th>\n",
       "      <th>guidislink</th>\n",
       "      <th>tags</th>\n",
       "      <th>text</th>\n",
       "      <th>...</th>\n",
       "      <th>published_parsed</th>\n",
       "      <th>comments</th>\n",
       "      <th>authors</th>\n",
       "      <th>author</th>\n",
       "      <th>author_detail</th>\n",
       "      <th>updated</th>\n",
       "      <th>updated_parsed</th>\n",
       "      <th>content</th>\n",
       "      <th>href</th>\n",
       "      <th>media_thumbnail</th>\n",
       "    </tr>\n",
       "  </thead>\n",
       "  <tbody>\n",
       "    <tr>\n",
       "      <th>0</th>\n",
       "      <td>I2L-MeshNet: Image-to-Lixel Prediction Network for Accurate 3D Human Pose and Mesh Estimation from a Single RGB Image</td>\n",
       "      <td>{'type': 'text/plain', 'language': None, 'base': 'https://us-east1-ml-feeds.cloudfunctions.net/pwc/latest', 'value': 'I2L-MeshNet: Image-to-Lixel Prediction Network for Accurate 3D Human Pose and Mesh Estimation from a Single RGB Image'}</td>\n",
       "      <td>[{'rel': 'alternate', 'type': 'text/html', 'href': 'https://paperswithcode.com/paper/i2l-meshnet-image-to-lixel-prediction-network'}]</td>\n",
       "      <td>https://paperswithcode.com/paper/i2l-meshnet-image-to-lixel-prediction-network</td>\n",
       "      <td>Most of the previous image-based 3D human pose and mesh estimation methods estimate parameters of the human mesh model from an input image. &lt;p&gt;Code: &lt;a href=\"https://github.com/mks0601/I2L-MeshNet_RELEASE\"&gt;https://github.com/mks0601/I2L-MeshNet_R...</td>\n",
       "      <td>{'type': 'text/html', 'language': None, 'base': 'https://us-east1-ml-feeds.cloudfunctions.net/pwc/latest', 'value': 'Most of the previous image-based 3D human pose and mesh estimation methods estimate parameters of the human mesh model from an in...</td>\n",
       "      <td>https://paperswithcode.com/paper/i2l-meshnet-image-to-lixel-prediction-network</td>\n",
       "      <td>False</td>\n",
       "      <td>[{'term': '3d hand pose estimation', 'scheme': None, 'label': None}, {'term': '3d human pose estimation', 'scheme': None, 'label': None}]</td>\n",
       "      <td>Most of the previous image-based 3D human pose and mesh estimation methods estimate parameters of the human mesh model from an input image. Code: https://github.com/mks0601/I2L-MeshNet_RELEASE</td>\n",
       "      <td>...</td>\n",
       "      <td>NaN</td>\n",
       "      <td>NaN</td>\n",
       "      <td>NaN</td>\n",
       "      <td>NaN</td>\n",
       "      <td>NaN</td>\n",
       "      <td>NaN</td>\n",
       "      <td>NaN</td>\n",
       "      <td>NaN</td>\n",
       "      <td>NaN</td>\n",
       "      <td>NaN</td>\n",
       "    </tr>\n",
       "    <tr>\n",
       "      <th>1</th>\n",
       "      <td>Polysemy Deciphering Network for Robust Human-Object Interaction Detection</td>\n",
       "      <td>{'type': 'text/plain', 'language': None, 'base': 'https://us-east1-ml-feeds.cloudfunctions.net/pwc/latest', 'value': 'Polysemy Deciphering Network for Robust Human-Object Interaction Detection'}</td>\n",
       "      <td>[{'rel': 'alternate', 'type': 'text/html', 'href': 'https://paperswithcode.com/paper/polysemy-deciphering-network-for-robust-human'}]</td>\n",
       "      <td>https://paperswithcode.com/paper/polysemy-deciphering-network-for-robust-human</td>\n",
       "      <td>To address this issue, in this paper, we propose a novel Polysemy Deciphering Network (PD-Net) that decodes the visual polysemy of verbs for HOI detection in three distinct ways. &lt;p&gt;Code: &lt;a href=\"https://github.com/MuchHair/PD-Net\"&gt;https://githu...</td>\n",
       "      <td>{'type': 'text/html', 'language': None, 'base': 'https://us-east1-ml-feeds.cloudfunctions.net/pwc/latest', 'value': 'To address this issue, in this paper, we propose a novel Polysemy Deciphering Network (PD-Net) that decodes the visual polysemy o...</td>\n",
       "      <td>https://paperswithcode.com/paper/polysemy-deciphering-network-for-robust-human</td>\n",
       "      <td>False</td>\n",
       "      <td>[{'term': 'Human-object interaction detection', 'scheme': None, 'label': None}, {'term': 'Scene understanding', 'scheme': None, 'label': None}]</td>\n",
       "      <td>To address this issue, in this paper, we propose a novel Polysemy Deciphering Network (PD-Net) that decodes the visual polysemy of verbs for HOI detection in three distinct ways. Code: https://github.com/MuchHair/PD-Net</td>\n",
       "      <td>...</td>\n",
       "      <td>NaN</td>\n",
       "      <td>NaN</td>\n",
       "      <td>NaN</td>\n",
       "      <td>NaN</td>\n",
       "      <td>NaN</td>\n",
       "      <td>NaN</td>\n",
       "      <td>NaN</td>\n",
       "      <td>NaN</td>\n",
       "      <td>NaN</td>\n",
       "      <td>NaN</td>\n",
       "    </tr>\n",
       "    <tr>\n",
       "      <th>2</th>\n",
       "      <td>Cascade Graph Neural Networks for RGB-D Salient Object Detection</td>\n",
       "      <td>{'type': 'text/plain', 'language': None, 'base': 'https://us-east1-ml-feeds.cloudfunctions.net/pwc/latest', 'value': 'Cascade Graph Neural Networks for RGB-D Salient Object Detection'}</td>\n",
       "      <td>[{'rel': 'alternate', 'type': 'text/html', 'href': 'https://paperswithcode.com/paper/cascade-graph-neural-networks-for-rgb-d'}]</td>\n",
       "      <td>https://paperswithcode.com/paper/cascade-graph-neural-networks-for-rgb-d</td>\n",
       "      <td>Current works either simply distill prior knowledge from the corresponding depth map for handling the RGB-image or blindly fuse color and geometric information to generate the coarse depth-aware representations, hindering the performance of RGB-D...</td>\n",
       "      <td>{'type': 'text/html', 'language': None, 'base': 'https://us-east1-ml-feeds.cloudfunctions.net/pwc/latest', 'value': 'Current works either simply distill prior knowledge from the corresponding depth map for handling the RGB-image or blindly fuse c...</td>\n",
       "      <td>https://paperswithcode.com/paper/cascade-graph-neural-networks-for-rgb-d</td>\n",
       "      <td>False</td>\n",
       "      <td>[{'term': 'Salient object detection', 'scheme': None, 'label': None}]</td>\n",
       "      <td>Current works either simply distill prior knowledge from the corresponding depth map for handling the RGB-image or blindly fuse color and geometric information to generate the coarse depth-aware representations, hindering the performance of RGB-D...</td>\n",
       "      <td>...</td>\n",
       "      <td>NaN</td>\n",
       "      <td>NaN</td>\n",
       "      <td>NaN</td>\n",
       "      <td>NaN</td>\n",
       "      <td>NaN</td>\n",
       "      <td>NaN</td>\n",
       "      <td>NaN</td>\n",
       "      <td>NaN</td>\n",
       "      <td>NaN</td>\n",
       "      <td>NaN</td>\n",
       "    </tr>\n",
       "    <tr>\n",
       "      <th>3</th>\n",
       "      <td>Convolutional Complex Knowledge Graph Embeddings</td>\n",
       "      <td>{'type': 'text/plain', 'language': None, 'base': 'https://us-east1-ml-feeds.cloudfunctions.net/pwc/latest', 'value': 'Convolutional Complex Knowledge Graph Embeddings'}</td>\n",
       "      <td>[{'rel': 'alternate', 'type': 'text/html', 'href': 'https://paperswithcode.com/paper/convolutional-complex-knowledge-graph'}]</td>\n",
       "      <td>https://paperswithcode.com/paper/convolutional-complex-knowledge-graph</td>\n",
       "      <td>In this paper, we study the problem of learning continuous vector representations of knowledge graphs for predicting missing links. &lt;p&gt;Code: &lt;a href=\"https://github.com/conex-kge/ConEx\"&gt;https://github.com/conex-kge/ConEx&lt;/a&gt;&lt;/p&gt;</td>\n",
       "      <td>{'type': 'text/html', 'language': None, 'base': 'https://us-east1-ml-feeds.cloudfunctions.net/pwc/latest', 'value': 'In this paper, we study the problem of learning continuous vector representations of knowledge graphs for predicting missing link...</td>\n",
       "      <td>https://paperswithcode.com/paper/convolutional-complex-knowledge-graph</td>\n",
       "      <td>False</td>\n",
       "      <td>[{'term': 'Knowledge graph embeddings', 'scheme': None, 'label': None}, {'term': 'Knowledge graphs', 'scheme': None, 'label': None}, {'term': 'Link prediction', 'scheme': None, 'label': None}]</td>\n",
       "      <td>In this paper, we study the problem of learning continuous vector representations of knowledge graphs for predicting missing links. Code: https://github.com/conex-kge/ConEx</td>\n",
       "      <td>...</td>\n",
       "      <td>NaN</td>\n",
       "      <td>NaN</td>\n",
       "      <td>NaN</td>\n",
       "      <td>NaN</td>\n",
       "      <td>NaN</td>\n",
       "      <td>NaN</td>\n",
       "      <td>NaN</td>\n",
       "      <td>NaN</td>\n",
       "      <td>NaN</td>\n",
       "      <td>NaN</td>\n",
       "    </tr>\n",
       "    <tr>\n",
       "      <th>4</th>\n",
       "      <td>Quantum State Tomography with Conditional Generative Adversarial Networks</td>\n",
       "      <td>{'type': 'text/plain', 'language': None, 'base': 'https://us-east1-ml-feeds.cloudfunctions.net/pwc/latest', 'value': 'Quantum State Tomography with Conditional Generative Adversarial Networks'}</td>\n",
       "      <td>[{'rel': 'alternate', 'type': 'text/html', 'href': 'https://paperswithcode.com/paper/quantum-state-tomography-with-conditional'}]</td>\n",
       "      <td>https://paperswithcode.com/paper/quantum-state-tomography-with-conditional</td>\n",
       "      <td>We augment a CGAN with custom neural-network layers that enable conversion of output from any standard neural network into a physical density matrix. &lt;p&gt;Code: &lt;a href=\"https://github.com/quantshah/qst-cgan\"&gt;https://github.com/quantshah/qst-cgan&lt;/...</td>\n",
       "      <td>{'type': 'text/html', 'language': None, 'base': 'https://us-east1-ml-feeds.cloudfunctions.net/pwc/latest', 'value': 'We augment a CGAN with custom neural-network layers that enable conversion of output from any standard neural network into a phys...</td>\n",
       "      <td>https://paperswithcode.com/paper/quantum-state-tomography-with-conditional</td>\n",
       "      <td>False</td>\n",
       "      <td>[{'term': 'Quantum state tomography', 'scheme': None, 'label': None}]</td>\n",
       "      <td>We augment a CGAN with custom neural-network layers that enable conversion of output from any standard neural network into a physical density matrix. Code: https://github.com/quantshah/qst-cgan</td>\n",
       "      <td>...</td>\n",
       "      <td>NaN</td>\n",
       "      <td>NaN</td>\n",
       "      <td>NaN</td>\n",
       "      <td>NaN</td>\n",
       "      <td>NaN</td>\n",
       "      <td>NaN</td>\n",
       "      <td>NaN</td>\n",
       "      <td>NaN</td>\n",
       "      <td>NaN</td>\n",
       "      <td>NaN</td>\n",
       "    </tr>\n",
       "  </tbody>\n",
       "</table>\n",
       "<p>5 rows × 22 columns</p>\n",
       "</div>"
      ],
      "text/plain": [
       "                                                                                                                   title  \\\n",
       "0  I2L-MeshNet: Image-to-Lixel Prediction Network for Accurate 3D Human Pose and Mesh Estimation from a Single RGB Image   \n",
       "1                                             Polysemy Deciphering Network for Robust Human-Object Interaction Detection   \n",
       "2                                                       Cascade Graph Neural Networks for RGB-D Salient Object Detection   \n",
       "3                                                                       Convolutional Complex Knowledge Graph Embeddings   \n",
       "4                                              Quantum State Tomography with Conditional Generative Adversarial Networks   \n",
       "\n",
       "                                                                                                                                                                                                                                    title_detail  \\\n",
       "0  {'type': 'text/plain', 'language': None, 'base': 'https://us-east1-ml-feeds.cloudfunctions.net/pwc/latest', 'value': 'I2L-MeshNet: Image-to-Lixel Prediction Network for Accurate 3D Human Pose and Mesh Estimation from a Single RGB Image'}   \n",
       "1                                             {'type': 'text/plain', 'language': None, 'base': 'https://us-east1-ml-feeds.cloudfunctions.net/pwc/latest', 'value': 'Polysemy Deciphering Network for Robust Human-Object Interaction Detection'}   \n",
       "2                                                       {'type': 'text/plain', 'language': None, 'base': 'https://us-east1-ml-feeds.cloudfunctions.net/pwc/latest', 'value': 'Cascade Graph Neural Networks for RGB-D Salient Object Detection'}   \n",
       "3                                                                       {'type': 'text/plain', 'language': None, 'base': 'https://us-east1-ml-feeds.cloudfunctions.net/pwc/latest', 'value': 'Convolutional Complex Knowledge Graph Embeddings'}   \n",
       "4                                              {'type': 'text/plain', 'language': None, 'base': 'https://us-east1-ml-feeds.cloudfunctions.net/pwc/latest', 'value': 'Quantum State Tomography with Conditional Generative Adversarial Networks'}   \n",
       "\n",
       "                                                                                                                                   links  \\\n",
       "0  [{'rel': 'alternate', 'type': 'text/html', 'href': 'https://paperswithcode.com/paper/i2l-meshnet-image-to-lixel-prediction-network'}]   \n",
       "1  [{'rel': 'alternate', 'type': 'text/html', 'href': 'https://paperswithcode.com/paper/polysemy-deciphering-network-for-robust-human'}]   \n",
       "2        [{'rel': 'alternate', 'type': 'text/html', 'href': 'https://paperswithcode.com/paper/cascade-graph-neural-networks-for-rgb-d'}]   \n",
       "3          [{'rel': 'alternate', 'type': 'text/html', 'href': 'https://paperswithcode.com/paper/convolutional-complex-knowledge-graph'}]   \n",
       "4      [{'rel': 'alternate', 'type': 'text/html', 'href': 'https://paperswithcode.com/paper/quantum-state-tomography-with-conditional'}]   \n",
       "\n",
       "                                                                             link  \\\n",
       "0  https://paperswithcode.com/paper/i2l-meshnet-image-to-lixel-prediction-network   \n",
       "1  https://paperswithcode.com/paper/polysemy-deciphering-network-for-robust-human   \n",
       "2        https://paperswithcode.com/paper/cascade-graph-neural-networks-for-rgb-d   \n",
       "3          https://paperswithcode.com/paper/convolutional-complex-knowledge-graph   \n",
       "4      https://paperswithcode.com/paper/quantum-state-tomography-with-conditional   \n",
       "\n",
       "                                                                                                                                                                                                                                                     summary  \\\n",
       "0  Most of the previous image-based 3D human pose and mesh estimation methods estimate parameters of the human mesh model from an input image. <p>Code: <a href=\"https://github.com/mks0601/I2L-MeshNet_RELEASE\">https://github.com/mks0601/I2L-MeshNet_R...   \n",
       "1  To address this issue, in this paper, we propose a novel Polysemy Deciphering Network (PD-Net) that decodes the visual polysemy of verbs for HOI detection in three distinct ways. <p>Code: <a href=\"https://github.com/MuchHair/PD-Net\">https://githu...   \n",
       "2  Current works either simply distill prior knowledge from the corresponding depth map for handling the RGB-image or blindly fuse color and geometric information to generate the coarse depth-aware representations, hindering the performance of RGB-D...   \n",
       "3                       In this paper, we study the problem of learning continuous vector representations of knowledge graphs for predicting missing links. <p>Code: <a href=\"https://github.com/conex-kge/ConEx\">https://github.com/conex-kge/ConEx</a></p>   \n",
       "4  We augment a CGAN with custom neural-network layers that enable conversion of output from any standard neural network into a physical density matrix. <p>Code: <a href=\"https://github.com/quantshah/qst-cgan\">https://github.com/quantshah/qst-cgan</...   \n",
       "\n",
       "                                                                                                                                                                                                                                              summary_detail  \\\n",
       "0  {'type': 'text/html', 'language': None, 'base': 'https://us-east1-ml-feeds.cloudfunctions.net/pwc/latest', 'value': 'Most of the previous image-based 3D human pose and mesh estimation methods estimate parameters of the human mesh model from an in...   \n",
       "1  {'type': 'text/html', 'language': None, 'base': 'https://us-east1-ml-feeds.cloudfunctions.net/pwc/latest', 'value': 'To address this issue, in this paper, we propose a novel Polysemy Deciphering Network (PD-Net) that decodes the visual polysemy o...   \n",
       "2  {'type': 'text/html', 'language': None, 'base': 'https://us-east1-ml-feeds.cloudfunctions.net/pwc/latest', 'value': 'Current works either simply distill prior knowledge from the corresponding depth map for handling the RGB-image or blindly fuse c...   \n",
       "3  {'type': 'text/html', 'language': None, 'base': 'https://us-east1-ml-feeds.cloudfunctions.net/pwc/latest', 'value': 'In this paper, we study the problem of learning continuous vector representations of knowledge graphs for predicting missing link...   \n",
       "4  {'type': 'text/html', 'language': None, 'base': 'https://us-east1-ml-feeds.cloudfunctions.net/pwc/latest', 'value': 'We augment a CGAN with custom neural-network layers that enable conversion of output from any standard neural network into a phys...   \n",
       "\n",
       "                                                                               id  \\\n",
       "0  https://paperswithcode.com/paper/i2l-meshnet-image-to-lixel-prediction-network   \n",
       "1  https://paperswithcode.com/paper/polysemy-deciphering-network-for-robust-human   \n",
       "2        https://paperswithcode.com/paper/cascade-graph-neural-networks-for-rgb-d   \n",
       "3          https://paperswithcode.com/paper/convolutional-complex-knowledge-graph   \n",
       "4      https://paperswithcode.com/paper/quantum-state-tomography-with-conditional   \n",
       "\n",
       "  guidislink  \\\n",
       "0      False   \n",
       "1      False   \n",
       "2      False   \n",
       "3      False   \n",
       "4      False   \n",
       "\n",
       "                                                                                                                                                                                               tags  \\\n",
       "0                                                         [{'term': '3d hand pose estimation', 'scheme': None, 'label': None}, {'term': '3d human pose estimation', 'scheme': None, 'label': None}]   \n",
       "1                                                   [{'term': 'Human-object interaction detection', 'scheme': None, 'label': None}, {'term': 'Scene understanding', 'scheme': None, 'label': None}]   \n",
       "2                                                                                                                             [{'term': 'Salient object detection', 'scheme': None, 'label': None}]   \n",
       "3  [{'term': 'Knowledge graph embeddings', 'scheme': None, 'label': None}, {'term': 'Knowledge graphs', 'scheme': None, 'label': None}, {'term': 'Link prediction', 'scheme': None, 'label': None}]   \n",
       "4                                                                                                                             [{'term': 'Quantum state tomography', 'scheme': None, 'label': None}]   \n",
       "\n",
       "                                                                                                                                                                                                                                                        text  \\\n",
       "0                                                           Most of the previous image-based 3D human pose and mesh estimation methods estimate parameters of the human mesh model from an input image. Code: https://github.com/mks0601/I2L-MeshNet_RELEASE   \n",
       "1                                To address this issue, in this paper, we propose a novel Polysemy Deciphering Network (PD-Net) that decodes the visual polysemy of verbs for HOI detection in three distinct ways. Code: https://github.com/MuchHair/PD-Net   \n",
       "2  Current works either simply distill prior knowledge from the corresponding depth map for handling the RGB-image or blindly fuse color and geometric information to generate the coarse depth-aware representations, hindering the performance of RGB-D...   \n",
       "3                                                                               In this paper, we study the problem of learning continuous vector representations of knowledge graphs for predicting missing links. Code: https://github.com/conex-kge/ConEx   \n",
       "4                                                          We augment a CGAN with custom neural-network layers that enable conversion of output from any standard neural network into a physical density matrix. Code: https://github.com/quantshah/qst-cgan   \n",
       "\n",
       "   ... published_parsed comments authors author author_detail updated  \\\n",
       "0  ...              NaN      NaN     NaN    NaN           NaN     NaN   \n",
       "1  ...              NaN      NaN     NaN    NaN           NaN     NaN   \n",
       "2  ...              NaN      NaN     NaN    NaN           NaN     NaN   \n",
       "3  ...              NaN      NaN     NaN    NaN           NaN     NaN   \n",
       "4  ...              NaN      NaN     NaN    NaN           NaN     NaN   \n",
       "\n",
       "  updated_parsed content href media_thumbnail  \n",
       "0            NaN     NaN  NaN             NaN  \n",
       "1            NaN     NaN  NaN             NaN  \n",
       "2            NaN     NaN  NaN             NaN  \n",
       "3            NaN     NaN  NaN             NaN  \n",
       "4            NaN     NaN  NaN             NaN  \n",
       "\n",
       "[5 rows x 22 columns]"
      ]
     },
     "execution_count": 14,
     "metadata": {},
     "output_type": "execute_result"
    }
   ],
   "source": [
    "feed_df.head()"
   ]
  },
  {
   "cell_type": "markdown",
   "metadata": {},
   "source": [
    "### Zero-shot learning\n",
    "\n",
    "Using self-attention models from [huggingface transformers](https://github.com/huggingface/transformers) it is possible to run unsupervised text classification. This can be also viewed as (soft) clustering with side information on clusters.\n",
    "\n",
    "This approach for zero-shot learning uses classes that are texts themselves, and leverages text embeddings to do classification.\n",
    "\n",
    "The following code uses [ktrain](https://github.com/amaiya/ktrain) library's implementation - it uses pretrained model for Natural Language Inference to classify texts. For the details of this approach see [Zero-Shot Learning in Modern NLP](https://joeddav.github.io/blog/2020/05/29/ZSL.html) blog post."
   ]
  },
  {
   "cell_type": "code",
   "execution_count": 15,
   "metadata": {},
   "outputs": [],
   "source": [
    "zsl_clf = text.ZeroShotClassifier(device='cuda')"
   ]
  },
  {
   "cell_type": "code",
   "execution_count": 16,
   "metadata": {},
   "outputs": [
    {
     "data": {
      "text/plain": [
       "<ktrain.text.zsl.core.ZeroShotClassifier at 0x7f95a84ff410>"
      ]
     },
     "execution_count": 16,
     "metadata": {},
     "output_type": "execute_result"
    }
   ],
   "source": [
    "zsl_clf "
   ]
  },
  {
   "cell_type": "code",
   "execution_count": 17,
   "metadata": {},
   "outputs": [],
   "source": [
    "example_article = feed_df.iloc[0]\n",
    "example_article_text = example_article['text']"
   ]
  },
  {
   "cell_type": "code",
   "execution_count": 18,
   "metadata": {},
   "outputs": [],
   "source": [
    "#export\n",
    "topic_strings = [\n",
    "    'deep learning',\n",
    "    'natural language processing',\n",
    "    'computer vision',\n",
    "    'statistics',\n",
    "    'business intelligence',\n",
    "    'visualization',\n",
    "    'industry',\n",
    "    'implementation',\n",
    "    'software engineering',\n",
    "    'reddit question',\n",
    "    'science',\n",
    "    'cloud computing',\n",
    "    'deployment',\n",
    "    'business'\n",
    "]"
   ]
  },
  {
   "cell_type": "code",
   "execution_count": 19,
   "metadata": {},
   "outputs": [],
   "source": [
    "topic_strings = pd.read_table('data/topics.txt', header=None).iloc[:,0].values"
   ]
  },
  {
   "cell_type": "code",
   "execution_count": 20,
   "metadata": {},
   "outputs": [],
   "source": [
    "#export\n",
    "\n",
    "def get_zero_shot_classification_results(zsl_clf, text, topic_strings, max_length=128, sort=True):\n",
    "    text_length = len(text.split())\n",
    "    results = zsl_clf.predict(text, topic_strings=topic_strings, include_labels=True, batch_size=len(topic_strings), max_length=min(max_length, text_length))\n",
    "    if sort:\n",
    "        return sorted(results, key=itemgetter(1), reverse=True)\n",
    "    else:\n",
    "        return results\n",
    "\n",
    "\n",
    "def get_zero_shot_classification_results_df(zsl_clf, texts, topic_strings, progbar_wrapper=tqdm.tqdm):\n",
    "    results_df = pd.DataFrame(np.zeros((len(texts), len(topic_strings))), columns=sorted(topic_strings))\n",
    "    for i, text in enumerate(progbar_wrapper(texts)):\n",
    "        results = get_zero_shot_classification_results(zsl_clf, text, topic_strings)\n",
    "        results_df.iloc[i] = pd.Series(dict(sorted(results, key=itemgetter(0))))\n",
    "    return results_df"
   ]
  },
  {
   "cell_type": "code",
   "execution_count": 21,
   "metadata": {},
   "outputs": [],
   "source": [
    "results = get_zero_shot_classification_results(zsl_clf, example_article_text, topic_strings)\n",
    "results = sorted(results, key=itemgetter(1), reverse=True)"
   ]
  },
  {
   "cell_type": "code",
   "execution_count": 22,
   "metadata": {},
   "outputs": [
    {
     "data": {
      "text/plain": [
       "computer vision                0.663394\n",
       "software engineering           0.414764\n",
       "visualization                  0.287666\n",
       "deep learning                  0.113754\n",
       "arxiv                          0.097541\n",
       "business intelligence          0.045340\n",
       "implementation                 0.019770\n",
       "industry                       0.016407\n",
       "deployment                     0.011904\n",
       "cloud computing                0.008510\n",
       "business                       0.008450\n",
       "competitions                   0.008429\n",
       "reddit question                0.007256\n",
       "statistics                     0.003227\n",
       "natural language processing    0.000321\n",
       "dtype: float64"
      ]
     },
     "execution_count": 22,
     "metadata": {},
     "output_type": "execute_result"
    }
   ],
   "source": [
    "pd.Series(dict(results))"
   ]
  },
  {
   "cell_type": "code",
   "execution_count": 23,
   "metadata": {},
   "outputs": [],
   "source": [
    "feed_df['text'].iloc[:100].to_csv('texts.csv')"
   ]
  },
  {
   "cell_type": "code",
   "execution_count": 24,
   "metadata": {},
   "outputs": [
    {
     "name": "stderr",
     "output_type": "stream",
     "text": [
      "100%|██████████| 295/295 [01:24<00:00,  3.50it/s]\n"
     ]
    }
   ],
   "source": [
    "results_df = get_zero_shot_classification_results_df(\n",
    "    zsl_clf,\n",
    "    feed_df['text'],\n",
    "    topic_strings\n",
    ")"
   ]
  },
  {
   "cell_type": "code",
   "execution_count": 25,
   "metadata": {},
   "outputs": [],
   "source": [
    "feed_df[['title', 'text', 'feed', 'link']].reset_index().join(results_df.round(3)).to_csv('feed_topics.csv', index=False)"
   ]
  },
  {
   "cell_type": "code",
   "execution_count": 26,
   "metadata": {},
   "outputs": [
    {
     "data": {
      "text/plain": [
       "title                                                                               I2L-MeshNet: Image-to-Lixel Prediction Network for Accurate 3D Human Pose and Mesh Estimation from a Single RGB Image\n",
       "text     Most of the previous image-based 3D human pose and mesh estimation methods estimate parameters of the human mesh model from an input image. Code: https://github.com/mks0601/I2L-MeshNet_RELEASE\n",
       "Name: 0, dtype: object"
      ]
     },
     "execution_count": 26,
     "metadata": {},
     "output_type": "execute_result"
    }
   ],
   "source": [
    "example_article[['title', 'text']]"
   ]
  },
  {
   "cell_type": "code",
   "execution_count": 27,
   "metadata": {},
   "outputs": [],
   "source": [
    "categories = [c for c, __ in results]\n",
    "scores = [score for __, score in results]"
   ]
  },
  {
   "cell_type": "code",
   "execution_count": 28,
   "metadata": {},
   "outputs": [
    {
     "data": {
      "image/png": "[encoded data removed]",
      "text/plain": [
       "<Figure size 432x288 with 1 Axes>"
      ]
     },
     "metadata": {
      "needs_background": "light"
     },
     "output_type": "display_data"
    }
   ],
   "source": [
    "sns.barplot(scores, categories)\n",
    "sns.despine(left=True, bottom=True)"
   ]
  }
 ],
 "metadata": {
  "kernelspec": {
   "display_name": "ml",
   "language": "python",
   "name": "ml"
  },
  "language_info": {
   "codemirror_mode": {
    "name": "ipython",
    "version": 3
   },
   "file_extension": ".py",
   "mimetype": "text/x-python",
   "name": "python",
   "nbconvert_exporter": "python",
   "pygments_lexer": "ipython3",
   "version": "3.7.7"
  }
 },
 "nbformat": 4,
 "nbformat_minor": 4
}
