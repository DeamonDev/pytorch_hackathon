{
 "cells": [
  {
   "cell_type": "code",
   "execution_count": 1,
   "metadata": {},
   "outputs": [],
   "source": [
    "#default_exp zero_shot_learning"
   ]
  },
  {
   "cell_type": "code",
   "execution_count": 2,
   "metadata": {},
   "outputs": [],
   "source": [
    "#export\n",
    "from operator import itemgetter\n",
    "\n",
    "import numpy as np\n",
    "import tqdm\n",
    "import bs4\n",
    "import feedparser\n",
    "import seaborn as sns\n",
    "import pandas as pd\n",
    "\n",
    "\n",
    "import torch\n",
    "from pytorch_hackathon import rss_feeds"
   ]
  },
  {
   "cell_type": "code",
   "execution_count": 3,
   "metadata": {},
   "outputs": [
    {
     "name": "stdout",
     "output_type": "stream",
     "text": [
      "/home/kuba/Projects/pytorch_hackathon\n"
     ]
    }
   ],
   "source": [
    "%cd .."
   ]
  },
  {
   "cell_type": "code",
   "execution_count": 4,
   "metadata": {},
   "outputs": [],
   "source": [
    "#export\n",
    "def get_feed_df(feed_urls):\n",
    "    feeds = [\n",
    "        (feed_url, feedparser.parse(feed_url))\n",
    "        for feed_url in tqdm.tqdm(feed_urls)\n",
    "    ]\n",
    "    return pd.concat(\n",
    "        [\n",
    "            add_field(get_feed_article_df(feed), 'feed', feed_url)\n",
    "            for (feed_url, feed) in feeds\n",
    "            if len(feed['entries']) > 0\n",
    "        ]\n",
    "    )"
   ]
  },
  {
   "cell_type": "code",
   "execution_count": 5,
   "metadata": {},
   "outputs": [],
   "source": [
    "rss_feed_urls = pd.read_table('data/feeds.txt', header=None).iloc[:,0].values"
   ]
  },
  {
   "cell_type": "code",
   "execution_count": 6,
   "metadata": {},
   "outputs": [
    {
     "name": "stderr",
     "output_type": "stream",
     "text": [
      "100%|██████████| 16/16 [00:12<00:00,  1.30it/s]\n",
      "/home/kuba/Projects/pytorch_hackathon/pytorch_hackathon/rss_feeds.py:63: UserWarning: No parser was explicitly specified, so I'm using the best available HTML parser for this system (\"lxml\"). This usually isn't a problem, but if you run this code on another system, or in a different virtual environment, it may use a different parser and behave differently.\n",
      "\n",
      "The code that caused this warning is on line 63 of the file /home/kuba/Projects/pytorch_hackathon/pytorch_hackathon/rss_feeds.py. To get rid of this warning, pass the additional argument 'features=\"lxml\"' to the BeautifulSoup constructor.\n",
      "\n",
      "  feed_df['text'] = feed_df['summary'].apply(lambda s: bs4.BeautifulSoup(s).text)\n"
     ]
    }
   ],
   "source": [
    "feed_df = rss_feeds.get_feed_df(rss_feed_urls)"
   ]
  },
  {
   "cell_type": "markdown",
   "metadata": {},
   "source": [
    "### Zero-shot learning\n",
    "\n",
    "Using self-attention models from [huggingface transformers](https://github.com/huggingface/transformers) it is possible to run unsupervised text classification. This can be also viewed as (soft) clustering with side information on clusters.\n",
    "\n",
    "This approach for zero-shot learning uses classes that are texts themselves, and leverages text embeddings to do classification.\n",
    "\n",
    "The following code uses [ktrain](https://github.com/amaiya/ktrain) library's implementation - it uses pretrained model for Natural Language Inference to classify texts. For the details of this approach see [Zero-Shot Learning in Modern NLP](https://joeddav.github.io/blog/2020/05/29/ZSL.html) blog post."
   ]
  },
  {
   "cell_type": "code",
   "execution_count": null,
   "metadata": {},
   "outputs": [],
   "source": [
    "from ktrain import text "
   ]
  },
  {
   "cell_type": "code",
   "execution_count": 7,
   "metadata": {},
   "outputs": [],
   "source": [
    "zsl_clf = text.ZeroShotClassifier(device='cuda')"
   ]
  },
  {
   "cell_type": "code",
   "execution_count": 8,
   "metadata": {},
   "outputs": [
    {
     "data": {
      "text/plain": [
       "<ktrain.text.zsl.core.ZeroShotClassifier at 0x7fc244f29810>"
      ]
     },
     "execution_count": 8,
     "metadata": {},
     "output_type": "execute_result"
    }
   ],
   "source": [
    "zsl_clf "
   ]
  },
  {
   "cell_type": "code",
   "execution_count": 9,
   "metadata": {},
   "outputs": [],
   "source": [
    "example_article = feed_df.iloc[0]\n",
    "example_article_text = example_article['text']"
   ]
  },
  {
   "cell_type": "code",
   "execution_count": 10,
   "metadata": {},
   "outputs": [],
   "source": [
    "#export\n",
    "topic_strings = [\n",
    "    'deep learning',\n",
    "    'natural language processing',\n",
    "    'computer vision',\n",
    "    'statistics',\n",
    "    'business intelligence',\n",
    "    'visualization',\n",
    "    'industry',\n",
    "    'implementation',\n",
    "    'software engineering',\n",
    "    'reddit question',\n",
    "    'science',\n",
    "    'cloud computing',\n",
    "    'deployment',\n",
    "    'business'\n",
    "]"
   ]
  },
  {
   "cell_type": "code",
   "execution_count": 11,
   "metadata": {},
   "outputs": [],
   "source": [
    "topic_strings = pd.read_table('data/topics.txt', header=None).iloc[:,0].values"
   ]
  },
  {
   "cell_type": "code",
   "execution_count": 12,
   "metadata": {},
   "outputs": [],
   "source": [
    "#export\n",
    "\n",
    "def get_zero_shot_classification_results(zsl_clf, text, topic_strings, max_length=128, sort=True):\n",
    "    text_length = len(text.split())\n",
    "    results = zsl_clf.predict(text, topic_strings=topic_strings, include_labels=True, batch_size=len(topic_strings), max_length=min(max_length, text_length))\n",
    "    if sort:\n",
    "        return sorted(results, key=itemgetter(1), reverse=True)\n",
    "    else:\n",
    "        return results\n",
    "\n",
    "\n",
    "def get_zero_shot_classification_results_df(zsl_clf, texts, topic_strings, progbar_wrapper=tqdm.tqdm):\n",
    "    results_df = pd.DataFrame(np.zeros((len(texts), len(topic_strings))), columns=sorted(topic_strings))\n",
    "    for i, text in enumerate(progbar_wrapper(texts)):\n",
    "        results = get_zero_shot_classification_results(zsl_clf, text, topic_strings)\n",
    "        results_df.iloc[i] = pd.Series(dict(sorted(results, key=itemgetter(0))))\n",
    "    return results_df"
   ]
  },
  {
   "cell_type": "code",
   "execution_count": 13,
   "metadata": {},
   "outputs": [],
   "source": [
    "results = get_zero_shot_classification_results(zsl_clf, example_article_text, topic_strings)\n",
    "results = sorted(results, key=itemgetter(1), reverse=True)"
   ]
  },
  {
   "cell_type": "code",
   "execution_count": 14,
   "metadata": {},
   "outputs": [
    {
     "data": {
      "text/plain": [
       "statistics                     0.649326\n",
       "computer vision                0.368404\n",
       "business intelligence          0.273391\n",
       "deep learning                  0.228862\n",
       "software engineering           0.163440\n",
       "visualization                  0.149282\n",
       "competitions                   0.077538\n",
       "natural language processing    0.069221\n",
       "business                       0.043187\n",
       "cloud computing                0.041225\n",
       "deployment                     0.034641\n",
       "arxiv                          0.010505\n",
       "industry                       0.010333\n",
       "reddit question                0.005926\n",
       "implementation                 0.005482\n",
       "dtype: float64"
      ]
     },
     "execution_count": 14,
     "metadata": {},
     "output_type": "execute_result"
    }
   ],
   "source": [
    "pd.Series(dict(results))"
   ]
  },
  {
   "cell_type": "code",
   "execution_count": 15,
   "metadata": {},
   "outputs": [],
   "source": [
    "feed_df['text'].iloc[:100].to_csv('texts.csv')"
   ]
  },
  {
   "cell_type": "code",
   "execution_count": 16,
   "metadata": {},
   "outputs": [
    {
     "name": "stderr",
     "output_type": "stream",
     "text": [
      "100%|██████████| 295/295 [01:11<00:00,  4.13it/s]\n"
     ]
    }
   ],
   "source": [
    "results_df = get_zero_shot_classification_results_df(\n",
    "    zsl_clf,\n",
    "    feed_df['text'],\n",
    "    topic_strings\n",
    ")"
   ]
  },
  {
   "cell_type": "code",
   "execution_count": 17,
   "metadata": {},
   "outputs": [],
   "source": [
    "feed_df[['title', 'text', 'feed', 'link']].reset_index().join(results_df.round(3)).to_csv('feed_topics.csv', index=False)"
   ]
  },
  {
   "cell_type": "code",
   "execution_count": 18,
   "metadata": {},
   "outputs": [
    {
     "data": {
      "text/plain": [
       "title    Norm-in-Norm Loss with Faster Convergence and ...\n",
       "text     Experiments on two relevant datasets (KonIQ-10...\n",
       "Name: 0, dtype: object"
      ]
     },
     "execution_count": 18,
     "metadata": {},
     "output_type": "execute_result"
    }
   ],
   "source": [
    "example_article[['title', 'text']]"
   ]
  },
  {
   "cell_type": "code",
   "execution_count": 19,
   "metadata": {},
   "outputs": [],
   "source": [
    "categories = [c for c, __ in results]\n",
    "scores = [score for __, score in results]"
   ]
  },
  {
   "cell_type": "code",
   "execution_count": 20,
   "metadata": {},
   "outputs": [
    {
     "data": {
      "image/png": "[encoded data removed]",
      "text/plain": [
       "<Figure size 432x288 with 1 Axes>"
      ]
     },
     "metadata": {
      "needs_background": "light"
     },
     "output_type": "display_data"
    }
   ],
   "source": [
    "sns.barplot(scores, categories)\n",
    "sns.despine(left=True, bottom=True)"
   ]
  }
 ],
 "metadata": {
  "kernelspec": {
   "display_name": "ml",
   "language": "python",
   "name": "ml"
  },
  "language_info": {
   "codemirror_mode": {
    "name": "ipython",
    "version": 3
   },
   "file_extension": ".py",
   "mimetype": "text/x-python",
   "name": "python",
   "nbconvert_exporter": "python",
   "pygments_lexer": "ipython3",
   "version": "3.7.7"
  }
 },
 "nbformat": 4,
 "nbformat_minor": 4
}
