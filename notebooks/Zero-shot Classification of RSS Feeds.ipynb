{
 "cells": [
  {
   "cell_type": "code",
   "execution_count": 1,
   "metadata": {},
   "outputs": [],
   "source": [
    "from operator import itemgetter\n",
    "\n",
    "import tqdm\n",
    "import bs4\n",
    "import feedparser\n",
    "import seaborn as sns\n",
    "import pandas as pd"
   ]
  },
  {
   "cell_type": "code",
   "execution_count": 2,
   "metadata": {},
   "outputs": [],
   "source": [
    "medium_publications = [\n",
    "    'the-artificial-impostor',\n",
    "    'pytorch',\n",
    "    'dair.ai',\n",
    "    'towards-artificial-intelligence',\n",
    "    'swlh',\n",
    "    '@ODSC',\n",
    "    'doctrine',\n",
    "    'paperswithcode'\n",
    "]\n",
    "\n",
    "\n",
    "medium_url_template = 'https://medium.com/feed/{}'\n",
    "medium_url = medium_url_template.format(medium_publications[0])\n",
    "medium_urls = [medium_url_template.format(publication) for publication in medium_publications]"
   ]
  },
  {
   "cell_type": "code",
   "execution_count": 3,
   "metadata": {},
   "outputs": [],
   "source": [
    "subreddits = [\n",
    "    'MachineLearning',\n",
    "    'deeplearning',\n",
    "    'datascience',\n",
    "    'cognitivelinguistics',\n",
    "    'TopOfArxivSanity',\n",
    "    'kaggle'\n",
    "]\n",
    "\n",
    "reddit_url_template = 'https://www.reddit.com/r/{}/.rss'\n",
    "reddit_url = reddit_url_template.format(subreddits[0])\n",
    "reddit_urls = [reddit_url_template.format(subreddit) for subreddit in subreddits]"
   ]
  },
  {
   "cell_type": "code",
   "execution_count": 4,
   "metadata": {},
   "outputs": [],
   "source": [
    "feed = feedparser.parse(reddit_url)"
   ]
  },
  {
   "cell_type": "code",
   "execution_count": 5,
   "metadata": {},
   "outputs": [
    {
     "data": {
      "text/plain": [
       "26"
      ]
     },
     "execution_count": 5,
     "metadata": {},
     "output_type": "execute_result"
    }
   ],
   "source": [
    "len(feed['entries'])"
   ]
  },
  {
   "cell_type": "code",
   "execution_count": 6,
   "metadata": {},
   "outputs": [],
   "source": [
    "articles = feed['entries']"
   ]
  },
  {
   "cell_type": "code",
   "execution_count": 7,
   "metadata": {},
   "outputs": [],
   "source": [
    "def get_article_text(article):\n",
    "    article_html_content = article['content'][0]['value']\n",
    "    article_text = bs4.BeautifulSoup(article_html_content).text\n",
    "    return article_text\n",
    "\n",
    "\n",
    "def get_feed_article_texts(feed):\n",
    "    return [get_article_text(article) for article in feed['entries'] if 'content' in article.keys()]\n",
    "\n",
    "\n",
    "def get_feed_article_df(feed):\n",
    "    feed_df = pd.DataFrame.from_records(feed['entries'])\n",
    "    feed_df['text'] = feed_df['summary'].apply(lambda s: bs4.BeautifulSoup(s).text)\n",
    "    return feed_df"
   ]
  },
  {
   "cell_type": "code",
   "execution_count": 8,
   "metadata": {},
   "outputs": [
    {
     "name": "stderr",
     "output_type": "stream",
     "text": [
      "100%|██████████| 14/14 [00:06<00:00,  2.15it/s]\n"
     ]
    }
   ],
   "source": [
    "feeds = [\n",
    "    feedparser.parse(feed_url)\n",
    "    for feed_url in tqdm.tqdm(medium_urls + reddit_urls)\n",
    "]"
   ]
  },
  {
   "cell_type": "code",
   "execution_count": 9,
   "metadata": {},
   "outputs": [],
   "source": [
    "feed_df = pd.concat(\n",
    "    [\n",
    "        get_feed_article_df(feed)\n",
    "        for feed in feeds\n",
    "        if len(feed['entries']) > 0\n",
    "    ]\n",
    ")"
   ]
  },
  {
   "cell_type": "code",
   "execution_count": 10,
   "metadata": {},
   "outputs": [],
   "source": [
    "from ktrain import text \n",
    "zsl = text.ZeroShotClassifier()"
   ]
  },
  {
   "cell_type": "code",
   "execution_count": 38,
   "metadata": {},
   "outputs": [],
   "source": [
    "example_article = feed_df.iloc[10]\n",
    "example_article_text = example_article['text']"
   ]
  },
  {
   "cell_type": "code",
   "execution_count": 39,
   "metadata": {},
   "outputs": [],
   "source": [
    "topic_strings = [\n",
    "    'deep learning',\n",
    "    'natural language processing',\n",
    "    'computer vision',\n",
    "    'visualization',\n",
    "    'industry',\n",
    "    'implementation',\n",
    "    'computer programming',\n",
    "    'reddit question',\n",
    "    'research',\n",
    "    'startup'\n",
    "]\n",
    "results = zsl.predict(example_article_text, topic_strings=topic_strings, include_labels=True, max_length=128)\n",
    "results = sorted(results, key=itemgetter(1), reverse=True)"
   ]
  },
  {
   "cell_type": "code",
   "execution_count": 55,
   "metadata": {},
   "outputs": [],
   "source": [
    "pd.set_option(\"display.max_colwidth\", 250)"
   ]
  },
  {
   "cell_type": "code",
   "execution_count": 56,
   "metadata": {},
   "outputs": [
    {
     "data": {
      "text/plain": [
       "title                                                                                                                                                                                                       AI for AG: Production machine learning for agriculture\n",
       "text     Author: Chris Padwick, Director of Computer Vision and Machine Learning at Blue River TechnologyHow did farming affect your day today? If you live in a city, you might feel disconnected from the farms and fields that produce your food. Agricultur...\n",
       "Name: 0, dtype: object"
      ]
     },
     "execution_count": 56,
     "metadata": {},
     "output_type": "execute_result"
    }
   ],
   "source": [
    "example_article[['title', 'text']]"
   ]
  },
  {
   "cell_type": "code",
   "execution_count": 45,
   "metadata": {},
   "outputs": [],
   "source": [
    "categories = [c for c, __ in results]\n",
    "scores = [score for __, score in results]"
   ]
  },
  {
   "cell_type": "code",
   "execution_count": 46,
   "metadata": {},
   "outputs": [
    {
     "data": {
      "image/png": "[encoded data removed]",
      "text/plain": [
       "<Figure size 432x288 with 1 Axes>"
      ]
     },
     "metadata": {
      "needs_background": "light"
     },
     "output_type": "display_data"
    }
   ],
   "source": [
    "sns.barplot(scores, categories)\n",
    "sns.despine(left=True, bottom=True)"
   ]
  },
  {
   "cell_type": "code",
   "execution_count": null,
   "metadata": {},
   "outputs": [],
   "source": []
  }
 ],
 "metadata": {
  "kernelspec": {
   "display_name": "ml",
   "language": "python",
   "name": "ml"
  },
  "language_info": {
   "codemirror_mode": {
    "name": "ipython",
    "version": 3
   },
   "file_extension": ".py",
   "mimetype": "text/x-python",
   "name": "python",
   "nbconvert_exporter": "python",
   "pygments_lexer": "ipython3",
   "version": "3.7.7"
  }
 },
 "nbformat": 4,
 "nbformat_minor": 4
}
